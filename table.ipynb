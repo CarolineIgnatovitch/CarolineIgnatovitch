{
 "cells": [
  {
   "cell_type": "code",
   "execution_count": 1,
   "id": "5e998faf",
   "metadata": {},
   "outputs": [
    {
     "name": "stdout",
     "output_type": "stream",
     "text": [
      "Обновленный отчет сохранен в файл: Обновленный_Отчет.xlsx\n"
     ]
    }
   ],
   "source": [
    "import pandas as pd\n",
    "import numpy as np\n",
    "\n",
    "# Чтение данных из файла Excel\n",
    "input_file = \"нужный.xlsx\"\n",
    "df = pd.read_excel(input_file, sheet_name=\"Лист1\")\n",
    "\n",
    "# Список названий продукции\n",
    "products = [\n",
    "    'Конек полукруглый \"Stalcolor\"',\n",
    "    'Металлочерепица Stalcolor',\n",
    "    'Металлочерепица Монтеррей',\n",
    "    'Модульная металлочерепица \"M-tile\"',\n",
    "    'Плоский лист \"Stalcolor\"',\n",
    "    'Профнастил \"Stalcolor\"',\n",
    "    'Штрипс',\n",
    "    'Сайдинг'\n",
    "]\n",
    "\n",
    "# Список компаний\n",
    "companies = [f'Компания {i+1}' for i in range(60)]\n",
    "\n",
    "# Генерация случайных выборок\n",
    "df['Продукт'] = np.random.choice(products, size=len(df))\n",
    "df['Компания'] = np.random.choice(companies, size=len(df))\n",
    "\n",
    "# Сохранение нового файла Excel\n",
    "output_file = \"Обновленный_Отчет.xlsx\"\n",
    "df.to_excel(output_file, index=False)\n",
    "\n",
    "print(f\"Обновленный отчет сохранен в файл: {output_file}\")"
   ]
  },
  {
   "cell_type": "code",
   "execution_count": 2,
   "id": "3207545d",
   "metadata": {},
   "outputs": [
    {
     "name": "stdout",
     "output_type": "stream",
     "text": [
      "Обновленный отчет сохранен в файл: Обновленный_Отчет.csv\n"
     ]
    }
   ],
   "source": [
    "# Сохранение нового файла CSV\n",
    "output_file = \"Обновленный_Отчет.csv\"\n",
    "df.to_csv(output_file, index=False, encoding='utf-8')\n",
    "\n",
    "print(f\"Обновленный отчет сохранен в файл: {output_file}\")"
   ]
  }
 ],
 "metadata": {
  "kernelspec": {
   "display_name": "lab_01",
   "language": "python",
   "name": "python3"
  },
  "language_info": {
   "codemirror_mode": {
    "name": "ipython",
    "version": 3
   },
   "file_extension": ".py",
   "mimetype": "text/x-python",
   "name": "python",
   "nbconvert_exporter": "python",
   "pygments_lexer": "ipython3",
   "version": "3.13.2"
  }
 },
 "nbformat": 4,
 "nbformat_minor": 5
}
